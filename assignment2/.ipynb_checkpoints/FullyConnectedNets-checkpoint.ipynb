{
 "cells": [
  {
   "cell_type": "markdown",
   "metadata": {
    "tags": [
     "pdf-title"
    ]
   },
   "source": [
    "# Fully-Connected Neural Nets\n",
    "In the previous homework you implemented a fully-connected two-layer neural network on CIFAR-10. The implementation was simple but not very modular since the loss and gradient were computed in a single monolithic function. This is manageable for a simple two-layer network, but would become impractical as we move to bigger models. Ideally we want to build networks using a more modular design so that we can implement different layer types in isolation and then snap them together into models with different architectures."
   ]
  },
  {
   "cell_type": "markdown",
   "metadata": {
    "tags": [
     "pdf-ignore"
    ]
   },
   "source": [
    "In this exercise we will implement fully-connected networks using a more modular approach. For each layer we will implement a `forward` and a `backward` function. The `forward` function will receive inputs, weights, and other parameters and will return both an output and a `cache` object storing data needed for the backward pass, like this:\n",
    "\n",
    "```python\n",
    "def layer_forward(x, w):\n",
    "  \"\"\" Receive inputs x and weights w \"\"\"\n",
    "  # Do some computations ...\n",
    "  z = # ... some intermediate value\n",
    "  # Do some more computations ...\n",
    "  out = # the output\n",
    "   \n",
    "  cache = (x, w, z, out) # Values we need to compute gradients\n",
    "   \n",
    "  return out, cache\n",
    "```\n",
    "\n",
    "The backward pass will receive upstream derivatives and the `cache` object, and will return gradients with respect to the inputs and weights, like this:\n",
    "\n",
    "```python\n",
    "def layer_backward(dout, cache):\n",
    "  \"\"\"\n",
    "  Receive dout (derivative of loss with respect to outputs) and cache,\n",
    "  and compute derivative with respect to inputs.\n",
    "  \"\"\"\n",
    "  # Unpack cache values\n",
    "  x, w, z, out = cache\n",
    "  \n",
    "  # Use values in cache to compute derivatives\n",
    "  dx = # Derivative of loss with respect to x\n",
    "  dw = # Derivative of loss with respect to w\n",
    "  \n",
    "  return dx, dw\n",
    "```\n",
    "\n",
    "After implementing a bunch of layers this way, we will be able to easily combine them to build classifiers with different architectures.\n",
    "\n",
    "In addition to implementing fully-connected networks of arbitrary depth, we will also explore different update rules for optimization, and introduce Dropout as a regularizer and Batch/Layer Normalization as a tool to more efficiently optimize deep networks.\n",
    "  "
   ]
  },
  {
   "cell_type": "code",
   "execution_count": 2,
   "metadata": {
    "scrolled": true,
    "tags": [
     "pdf-ignore"
    ]
   },
   "outputs": [],
   "source": [
    "# As usual, a bit of setup\n",
    "from __future__ import print_function\n",
    "import time\n",
    "import numpy as np\n",
    "import matplotlib.pyplot as plt\n",
    "from cs231n.classifiers.fc_net import *\n",
    "from cs231n.data_utils import get_CIFAR10_data\n",
    "from cs231n.gradient_check import eval_numerical_gradient, eval_numerical_gradient_array\n",
    "from cs231n.solver import Solver\n",
    "\n",
    "%matplotlib inline\n",
    "plt.rcParams['figure.figsize'] = (10.0, 8.0) # set default size of plots\n",
    "plt.rcParams['image.interpolation'] = 'nearest'\n",
    "plt.rcParams['image.cmap'] = 'gray'\n",
    "\n",
    "# for auto-reloading external modules\n",
    "# see http://stackoverflow.com/questions/1907993/autoreload-of-modules-in-ipython\n",
    "%load_ext autoreload\n",
    "%autoreload 2\n",
    "\n",
    "def rel_error(x, y):\n",
    "  \"\"\" returns relative error \"\"\"\n",
    "  return np.max(np.abs(x - y) / (np.maximum(1e-8, np.abs(x) + np.abs(y))))"
   ]
  },
  {
   "cell_type": "code",
   "execution_count": 3,
   "metadata": {
    "tags": [
     "pdf-ignore"
    ]
   },
   "outputs": [
    {
     "name": "stdout",
     "output_type": "stream",
     "text": [
      "('X_train: ', (49000, 3, 32, 32))\n",
      "('y_train: ', (49000,))\n",
      "('X_val: ', (1000, 3, 32, 32))\n",
      "('y_val: ', (1000,))\n",
      "('X_test: ', (1000, 3, 32, 32))\n",
      "('y_test: ', (1000,))\n"
     ]
    }
   ],
   "source": [
    "# Load the (preprocessed) CIFAR10 data.\n",
    "\n",
    "data = get_CIFAR10_data()\n",
    "for k, v in list(data.items()):\n",
    "  print(('%s: ' % k, v.shape))"
   ]
  },
  {
   "cell_type": "markdown",
   "metadata": {},
   "source": [
    "# Affine layer: foward\n",
    "Open the file `cs231n/layers.py` and implement the `affine_forward` function.\n",
    "\n",
    "Once you are done you can test your implementaion by running the following:"
   ]
  },
  {
   "cell_type": "code",
   "execution_count": 4,
   "metadata": {},
   "outputs": [
    {
     "name": "stdout",
     "output_type": "stream",
     "text": [
      "Testing affine_forward function:\n",
      "difference:  9.769849468192957e-10\n"
     ]
    }
   ],
   "source": [
    "# Test the affine_forward function\n",
    "\n",
    "num_inputs = 2\n",
    "input_shape = (4, 5, 6)\n",
    "output_dim = 3\n",
    "\n",
    "input_size = num_inputs * np.prod(input_shape)\n",
    "weight_size = output_dim * np.prod(input_shape)\n",
    "\n",
    "x = np.linspace(-0.1, 0.5, num=input_size).reshape(num_inputs, *input_shape)\n",
    "w = np.linspace(-0.2, 0.3, num=weight_size).reshape(np.prod(input_shape), output_dim)\n",
    "b = np.linspace(-0.3, 0.1, num=output_dim)\n",
    "\n",
    "out, _ = affine_forward(x, w, b)\n",
    "correct_out = np.array([[ 1.49834967,  1.70660132,  1.91485297],\n",
    "                        [ 3.25553199,  3.5141327,   3.77273342]])\n",
    "\n",
    "# Compare your output with ours. The error should be around e-9 or less.\n",
    "print('Testing affine_forward function:')\n",
    "print('difference: ', rel_error(out, correct_out))"
   ]
  },
  {
   "cell_type": "markdown",
   "metadata": {},
   "source": [
    "# Affine layer: backward\n",
    "Now implement the `affine_backward` function and test your implementation using numeric gradient checking."
   ]
  },
  {
   "cell_type": "code",
   "execution_count": 5,
   "metadata": {},
   "outputs": [
    {
     "name": "stdout",
     "output_type": "stream",
     "text": [
      "Testing affine_backward function:\n",
      "dx error:  5.399100368651805e-11\n",
      "dw error:  9.904211865398145e-11\n",
      "db error:  2.4122867568119087e-11\n"
     ]
    }
   ],
   "source": [
    "# Test the affine_backward function\n",
    "np.random.seed(231)\n",
    "x = np.random.randn(10, 2, 3)\n",
    "w = np.random.randn(6, 5)\n",
    "b = np.random.randn(5)\n",
    "dout = np.random.randn(10, 5)\n",
    "\n",
    "dx_num = eval_numerical_gradient_array(lambda x: affine_forward(x, w, b)[0], x, dout)\n",
    "dw_num = eval_numerical_gradient_array(lambda w: affine_forward(x, w, b)[0], w, dout)\n",
    "db_num = eval_numerical_gradient_array(lambda b: affine_forward(x, w, b)[0], b, dout)\n",
    "\n",
    "_, cache = affine_forward(x, w, b)\n",
    "dx, dw, db = affine_backward(dout, cache)\n",
    "\n",
    "# The error should be around e-10 or less\n",
    "print('Testing affine_backward function:')\n",
    "print('dx error: ', rel_error(dx_num, dx))\n",
    "print('dw error: ', rel_error(dw_num, dw))\n",
    "print('db error: ', rel_error(db_num, db))"
   ]
  },
  {
   "cell_type": "markdown",
   "metadata": {},
   "source": [
    "# ReLU activation: forward\n",
    "Implement the forward pass for the ReLU activation function in the `relu_forward` function and test your implementation using the following:"
   ]
  },
  {
   "cell_type": "code",
   "execution_count": 6,
   "metadata": {},
   "outputs": [
    {
     "name": "stdout",
     "output_type": "stream",
     "text": [
      "Testing relu_forward function:\n",
      "difference:  4.999999798022158e-08\n"
     ]
    }
   ],
   "source": [
    "# Test the relu_forward function\n",
    "\n",
    "x = np.linspace(-0.5, 0.5, num=12).reshape(3, 4)\n",
    "\n",
    "out, _ = relu_forward(x)\n",
    "correct_out = np.array([[ 0.,          0.,          0.,          0.,        ],\n",
    "                        [ 0.,          0.,          0.04545455,  0.13636364,],\n",
    "                        [ 0.22727273,  0.31818182,  0.40909091,  0.5,       ]])\n",
    "\n",
    "# Compare your output with ours. The error should be on the order of e-8\n",
    "print('Testing relu_forward function:')\n",
    "print('difference: ', rel_error(out, correct_out))"
   ]
  },
  {
   "cell_type": "markdown",
   "metadata": {},
   "source": [
    "# ReLU activation: backward\n",
    "Now implement the backward pass for the ReLU activation function in the `relu_backward` function and test your implementation using numeric gradient checking:"
   ]
  },
  {
   "cell_type": "code",
   "execution_count": 7,
   "metadata": {},
   "outputs": [
    {
     "name": "stdout",
     "output_type": "stream",
     "text": [
      "Testing relu_backward function:\n",
      "dx error:  3.2756349136310288e-12\n"
     ]
    }
   ],
   "source": [
    "np.random.seed(231)\n",
    "x = np.random.randn(10, 10)\n",
    "dout = np.random.randn(*x.shape)\n",
    "\n",
    "dx_num = eval_numerical_gradient_array(lambda x: relu_forward(x)[0], x, dout)\n",
    "\n",
    "_, cache = relu_forward(x)\n",
    "dx = relu_backward(dout, cache)\n",
    "\n",
    "# The error should be on the order of e-12\n",
    "print('Testing relu_backward function:')\n",
    "print('dx error: ', rel_error(dx_num, dx))"
   ]
  },
  {
   "cell_type": "markdown",
   "metadata": {
    "tags": [
     "pdf-inline"
    ]
   },
   "source": [
    "## Inline Question 1: \n",
    "\n",
    "We've only asked you to implement ReLU, but there are a number of different activation functions that one could use in neural networks, each with its pros and cons. In particular, an issue commonly seen with activation functions is getting zero (or close to zero) gradient flow during backpropagation. Which of the following activation functions have this problem? If you consider these functions in the one dimensional case, what types of input would lead to this behaviour?\n",
    "1. Sigmoid\n",
    "2. ReLU\n",
    "3. Leaky ReLU\n",
    "\n",
    "## Answer:\n",
    "[FILL THIS IN]\n"
   ]
  },
  {
   "cell_type": "markdown",
   "metadata": {},
   "source": [
    "# \"Sandwich\" layers\n",
    "There are some common patterns of layers that are frequently used in neural nets. For example, affine layers are frequently followed by a ReLU nonlinearity. To make these common patterns easy, we define several convenience layers in the file `cs231n/layer_utils.py`.\n",
    "\n",
    "For now take a look at the `affine_relu_forward` and `affine_relu_backward` functions, and run the following to numerically gradient check the backward pass:"
   ]
  },
  {
   "cell_type": "code",
   "execution_count": 8,
   "metadata": {},
   "outputs": [
    {
     "name": "stdout",
     "output_type": "stream",
     "text": [
      "Testing affine_relu_forward and affine_relu_backward:\n",
      "dx error:  2.299579177309368e-11\n",
      "dw error:  8.162011105764925e-11\n",
      "db error:  7.826724021458994e-12\n"
     ]
    }
   ],
   "source": [
    "from cs231n.layer_utils import affine_relu_forward, affine_relu_backward\n",
    "np.random.seed(231)\n",
    "x = np.random.randn(2, 3, 4)\n",
    "w = np.random.randn(12, 10)\n",
    "b = np.random.randn(10)\n",
    "dout = np.random.randn(2, 10)\n",
    "\n",
    "out, cache = affine_relu_forward(x, w, b)\n",
    "dx, dw, db = affine_relu_backward(dout, cache)\n",
    "\n",
    "dx_num = eval_numerical_gradient_array(lambda x: affine_relu_forward(x, w, b)[0], x, dout)\n",
    "dw_num = eval_numerical_gradient_array(lambda w: affine_relu_forward(x, w, b)[0], w, dout)\n",
    "db_num = eval_numerical_gradient_array(lambda b: affine_relu_forward(x, w, b)[0], b, dout)\n",
    "\n",
    "# Relative error should be around e-10 or less\n",
    "print('Testing affine_relu_forward and affine_relu_backward:')\n",
    "print('dx error: ', rel_error(dx_num, dx))\n",
    "print('dw error: ', rel_error(dw_num, dw))\n",
    "print('db error: ', rel_error(db_num, db))"
   ]
  },
  {
   "cell_type": "markdown",
   "metadata": {},
   "source": [
    "# Loss layers: Softmax and SVM\n",
    "You implemented these loss functions in the last assignment, so we'll give them to you for free here. You should still make sure you understand how they work by looking at the implementations in `cs231n/layers.py`.\n",
    "\n",
    "You can make sure that the implementations are correct by running the following:"
   ]
  },
  {
   "cell_type": "code",
   "execution_count": 9,
   "metadata": {},
   "outputs": [
    {
     "name": "stdout",
     "output_type": "stream",
     "text": [
      "Testing svm_loss:\n",
      "loss:  8.999602749096233\n",
      "dx error:  1.4021566006651672e-09\n",
      "\n",
      "Testing softmax_loss:\n",
      "loss:  2.302545844500738\n",
      "dx error:  9.384673161989355e-09\n"
     ]
    }
   ],
   "source": [
    "np.random.seed(231)\n",
    "num_classes, num_inputs = 10, 50\n",
    "x = 0.001 * np.random.randn(num_inputs, num_classes)\n",
    "y = np.random.randint(num_classes, size=num_inputs)\n",
    "\n",
    "dx_num = eval_numerical_gradient(lambda x: svm_loss(x, y)[0], x, verbose=False)\n",
    "loss, dx = svm_loss(x, y)\n",
    "\n",
    "# Test svm_loss function. Loss should be around 9 and dx error should be around the order of e-9\n",
    "print('Testing svm_loss:')\n",
    "print('loss: ', loss)\n",
    "print('dx error: ', rel_error(dx_num, dx))\n",
    "\n",
    "dx_num = eval_numerical_gradient(lambda x: softmax_loss(x, y)[0], x, verbose=False)\n",
    "loss, dx = softmax_loss(x, y)\n",
    "\n",
    "# Test softmax_loss function. Loss should be close to 2.3 and dx error should be around e-8\n",
    "print('\\nTesting softmax_loss:')\n",
    "print('loss: ', loss)\n",
    "print('dx error: ', rel_error(dx_num, dx))"
   ]
  },
  {
   "cell_type": "markdown",
   "metadata": {},
   "source": [
    "# Two-layer network\n",
    "In the previous assignment you implemented a two-layer neural network in a single monolithic class. Now that you have implemented modular versions of the necessary layers, you will reimplement the two layer network using these modular implementations.\n",
    "\n",
    "Open the file `cs231n/classifiers/fc_net.py` and complete the implementation of the `TwoLayerNet` class. This class will serve as a model for the other networks you will implement in this assignment, so read through it to make sure you understand the API. You can run the cell below to test your implementation."
   ]
  },
  {
   "cell_type": "code",
   "execution_count": 10,
   "metadata": {},
   "outputs": [
    {
     "name": "stdout",
     "output_type": "stream",
     "text": [
      "Testing initialization ... \n",
      "Testing test-time forward pass ... \n",
      "Testing training loss (no regularization)\n",
      "Running numeric gradient check with reg =  0.0\n",
      "W1 relative error: 1.83e-08\n",
      "W2 relative error: 3.12e-10\n",
      "b1 relative error: 9.83e-09\n",
      "b2 relative error: 4.33e-10\n",
      "Running numeric gradient check with reg =  0.7\n",
      "W1 relative error: 2.53e-07\n",
      "W2 relative error: 2.85e-08\n",
      "b1 relative error: 1.56e-08\n",
      "b2 relative error: 7.76e-10\n"
     ]
    }
   ],
   "source": [
    "np.random.seed(231)\n",
    "N, D, H, C = 3, 5, 50, 7\n",
    "X = np.random.randn(N, D)\n",
    "y = np.random.randint(C, size=N)\n",
    "\n",
    "std = 1e-3\n",
    "model = TwoLayerNet(input_dim=D, hidden_dim=H, num_classes=C, weight_scale=std)\n",
    "\n",
    "print('Testing initialization ... ')\n",
    "W1_std = abs(model.params['W1'].std() - std)\n",
    "b1 = model.params['b1']\n",
    "W2_std = abs(model.params['W2'].std() - std)\n",
    "b2 = model.params['b2']\n",
    "assert W1_std < std / 10, 'First layer weights do not seem right'\n",
    "assert np.all(b1 == 0), 'First layer biases do not seem right'\n",
    "assert W2_std < std / 10, 'Second layer weights do not seem right'\n",
    "assert np.all(b2 == 0), 'Second layer biases do not seem right'\n",
    "\n",
    "print('Testing test-time forward pass ... ')\n",
    "model.params['W1'] = np.linspace(-0.7, 0.3, num=D*H).reshape(D, H)\n",
    "model.params['b1'] = np.linspace(-0.1, 0.9, num=H)\n",
    "model.params['W2'] = np.linspace(-0.3, 0.4, num=H*C).reshape(H, C)\n",
    "model.params['b2'] = np.linspace(-0.9, 0.1, num=C)\n",
    "X = np.linspace(-5.5, 4.5, num=N*D).reshape(D, N).T\n",
    "scores = model.loss(X)\n",
    "correct_scores = np.asarray(\n",
    "  [[11.53165108,  12.2917344,   13.05181771,  13.81190102,  14.57198434, 15.33206765,  16.09215096],\n",
    "   [12.05769098,  12.74614105,  13.43459113,  14.1230412,   14.81149128, 15.49994135,  16.18839143],\n",
    "   [12.58373087,  13.20054771,  13.81736455,  14.43418138,  15.05099822, 15.66781506,  16.2846319 ]])\n",
    "scores_diff = np.abs(scores - correct_scores).sum()\n",
    "assert scores_diff < 1e-6, 'Problem with test-time forward pass'\n",
    "\n",
    "print('Testing training loss (no regularization)')\n",
    "y = np.asarray([0, 5, 1])\n",
    "loss, grads = model.loss(X, y)\n",
    "correct_loss = 3.4702243556\n",
    "assert abs(loss - correct_loss) < 1e-10, 'Problem with training-time loss'\n",
    "\n",
    "model.reg = 1.0\n",
    "loss, grads = model.loss(X, y)\n",
    "correct_loss = 26.5948426952\n",
    "assert abs(loss - correct_loss) < 1e-10, 'Problem with regularization loss'\n",
    "\n",
    "# Errors should be around e-7 or less\n",
    "for reg in [0.0, 0.7]:\n",
    "  print('Running numeric gradient check with reg = ', reg)\n",
    "  model.reg = reg\n",
    "  loss, grads = model.loss(X, y)\n",
    "\n",
    "  for name in sorted(grads):\n",
    "    f = lambda _: model.loss(X, y)[0]\n",
    "    grad_num = eval_numerical_gradient(f, model.params[name], verbose=False)\n",
    "    print('%s relative error: %.2e' % (name, rel_error(grad_num, grads[name])))"
   ]
  },
  {
   "cell_type": "markdown",
   "metadata": {},
   "source": [
    "# Solver\n",
    "In the previous assignment, the logic for training models was coupled to the models themselves. Following a more modular design, for this assignment we have split the logic for training models into a separate class.\n",
    "\n",
    "Open the file `cs231n/solver.py` and read through it to familiarize yourself with the API. After doing so, use a `Solver` instance to train a `TwoLayerNet` that achieves at least `50%` accuracy on the validation set."
   ]
  },
  {
   "cell_type": "code",
   "execution_count": 11,
   "metadata": {
    "scrolled": false
   },
   "outputs": [
    {
     "name": "stdout",
     "output_type": "stream",
     "text": [
      "(Iteration 1 / 3820) loss: 2.304067\n",
      "(Epoch 0 / 10) train acc: 0.116000; val_acc: 0.098000\n",
      "(Iteration 11 / 3820) loss: 2.253829\n",
      "(Iteration 21 / 3820) loss: 2.183700\n",
      "(Iteration 31 / 3820) loss: 2.078136\n",
      "(Iteration 41 / 3820) loss: 1.983352\n",
      "(Iteration 51 / 3820) loss: 1.909735\n",
      "(Iteration 61 / 3820) loss: 1.912123\n",
      "(Iteration 71 / 3820) loss: 1.900431\n",
      "(Iteration 81 / 3820) loss: 1.877807\n",
      "(Iteration 91 / 3820) loss: 1.800529\n",
      "(Iteration 101 / 3820) loss: 1.888432\n",
      "(Iteration 111 / 3820) loss: 1.634323\n",
      "(Iteration 121 / 3820) loss: 1.752037\n",
      "(Iteration 131 / 3820) loss: 1.659691\n",
      "(Iteration 141 / 3820) loss: 1.638951\n",
      "(Iteration 151 / 3820) loss: 1.902201\n",
      "(Iteration 161 / 3820) loss: 1.630335\n",
      "(Iteration 171 / 3820) loss: 1.852349\n",
      "(Iteration 181 / 3820) loss: 1.709409\n",
      "(Iteration 191 / 3820) loss: 1.766656\n",
      "(Iteration 201 / 3820) loss: 1.795687\n",
      "(Iteration 211 / 3820) loss: 1.739376\n",
      "(Iteration 221 / 3820) loss: 1.522255\n",
      "(Iteration 231 / 3820) loss: 1.796836\n",
      "(Iteration 241 / 3820) loss: 1.552301\n",
      "(Iteration 251 / 3820) loss: 1.531773\n",
      "(Iteration 261 / 3820) loss: 1.680924\n",
      "(Iteration 271 / 3820) loss: 1.670401\n",
      "(Iteration 281 / 3820) loss: 1.653058\n",
      "(Iteration 291 / 3820) loss: 1.698248\n",
      "(Iteration 301 / 3820) loss: 1.623116\n",
      "(Iteration 311 / 3820) loss: 1.599251\n",
      "(Iteration 321 / 3820) loss: 1.676950\n",
      "(Iteration 331 / 3820) loss: 1.593565\n",
      "(Iteration 341 / 3820) loss: 1.372783\n",
      "(Iteration 351 / 3820) loss: 1.609823\n",
      "(Iteration 361 / 3820) loss: 1.502744\n",
      "(Iteration 371 / 3820) loss: 1.439116\n",
      "(Iteration 381 / 3820) loss: 1.458424\n",
      "(Epoch 1 / 10) train acc: 0.432000; val_acc: 0.444000\n",
      "(Iteration 391 / 3820) loss: 1.630312\n",
      "(Iteration 401 / 3820) loss: 1.547434\n",
      "(Iteration 411 / 3820) loss: 1.530705\n",
      "(Iteration 421 / 3820) loss: 1.645951\n",
      "(Iteration 431 / 3820) loss: 1.607163\n",
      "(Iteration 441 / 3820) loss: 1.448353\n",
      "(Iteration 451 / 3820) loss: 1.566140\n",
      "(Iteration 461 / 3820) loss: 1.728170\n",
      "(Iteration 471 / 3820) loss: 1.626074\n",
      "(Iteration 481 / 3820) loss: 1.585911\n",
      "(Iteration 491 / 3820) loss: 1.528142\n",
      "(Iteration 501 / 3820) loss: 1.495050\n",
      "(Iteration 511 / 3820) loss: 1.485689\n",
      "(Iteration 521 / 3820) loss: 1.587991\n",
      "(Iteration 531 / 3820) loss: 1.616547\n",
      "(Iteration 541 / 3820) loss: 1.507533\n",
      "(Iteration 551 / 3820) loss: 1.452643\n",
      "(Iteration 561 / 3820) loss: 1.534680\n",
      "(Iteration 571 / 3820) loss: 1.710589\n",
      "(Iteration 581 / 3820) loss: 1.568917\n",
      "(Iteration 591 / 3820) loss: 1.495589\n",
      "(Iteration 601 / 3820) loss: 1.544058\n",
      "(Iteration 611 / 3820) loss: 1.451387\n",
      "(Iteration 621 / 3820) loss: 1.507831\n",
      "(Iteration 631 / 3820) loss: 1.464632\n",
      "(Iteration 641 / 3820) loss: 1.359924\n",
      "(Iteration 651 / 3820) loss: 1.535376\n",
      "(Iteration 661 / 3820) loss: 1.651742\n",
      "(Iteration 671 / 3820) loss: 1.557636\n",
      "(Iteration 681 / 3820) loss: 1.573046\n",
      "(Iteration 691 / 3820) loss: 1.523287\n",
      "(Iteration 701 / 3820) loss: 1.359813\n",
      "(Iteration 711 / 3820) loss: 1.342261\n",
      "(Iteration 721 / 3820) loss: 1.412644\n",
      "(Iteration 731 / 3820) loss: 1.513821\n",
      "(Iteration 741 / 3820) loss: 1.616347\n",
      "(Iteration 751 / 3820) loss: 1.423246\n",
      "(Iteration 761 / 3820) loss: 1.469044\n",
      "(Epoch 2 / 10) train acc: 0.501000; val_acc: 0.485000\n",
      "(Iteration 771 / 3820) loss: 1.489636\n",
      "(Iteration 781 / 3820) loss: 1.439938\n",
      "(Iteration 791 / 3820) loss: 1.438244\n",
      "(Iteration 801 / 3820) loss: 1.415240\n",
      "(Iteration 811 / 3820) loss: 1.377512\n",
      "(Iteration 821 / 3820) loss: 1.328375\n",
      "(Iteration 831 / 3820) loss: 1.211585\n",
      "(Iteration 841 / 3820) loss: 1.338960\n",
      "(Iteration 851 / 3820) loss: 1.529127\n",
      "(Iteration 861 / 3820) loss: 1.439008\n",
      "(Iteration 871 / 3820) loss: 1.520821\n",
      "(Iteration 881 / 3820) loss: 1.393420\n",
      "(Iteration 891 / 3820) loss: 1.380896\n",
      "(Iteration 901 / 3820) loss: 1.454153\n",
      "(Iteration 911 / 3820) loss: 1.419536\n",
      "(Iteration 921 / 3820) loss: 1.325231\n",
      "(Iteration 931 / 3820) loss: 1.339119\n",
      "(Iteration 941 / 3820) loss: 1.476723\n",
      "(Iteration 951 / 3820) loss: 1.416943\n",
      "(Iteration 961 / 3820) loss: 1.453154\n",
      "(Iteration 971 / 3820) loss: 1.486210\n",
      "(Iteration 981 / 3820) loss: 1.586838\n",
      "(Iteration 991 / 3820) loss: 1.470341\n",
      "(Iteration 1001 / 3820) loss: 1.554827\n",
      "(Iteration 1011 / 3820) loss: 1.476484\n",
      "(Iteration 1021 / 3820) loss: 1.403736\n",
      "(Iteration 1031 / 3820) loss: 1.457289\n",
      "(Iteration 1041 / 3820) loss: 1.319435\n",
      "(Iteration 1051 / 3820) loss: 1.497798\n",
      "(Iteration 1061 / 3820) loss: 1.355649\n",
      "(Iteration 1071 / 3820) loss: 1.380860\n",
      "(Iteration 1081 / 3820) loss: 1.448566\n",
      "(Iteration 1091 / 3820) loss: 1.378406\n",
      "(Iteration 1101 / 3820) loss: 1.214780\n",
      "(Iteration 1111 / 3820) loss: 1.636845\n",
      "(Iteration 1121 / 3820) loss: 1.154930\n",
      "(Iteration 1131 / 3820) loss: 1.273710\n",
      "(Iteration 1141 / 3820) loss: 1.275873\n",
      "(Epoch 3 / 10) train acc: 0.490000; val_acc: 0.483000\n",
      "(Iteration 1151 / 3820) loss: 1.418778\n",
      "(Iteration 1161 / 3820) loss: 1.399155\n",
      "(Iteration 1171 / 3820) loss: 1.287126\n",
      "(Iteration 1181 / 3820) loss: 1.468611\n",
      "(Iteration 1191 / 3820) loss: 1.267763\n",
      "(Iteration 1201 / 3820) loss: 1.403042\n",
      "(Iteration 1211 / 3820) loss: 1.580290\n",
      "(Iteration 1221 / 3820) loss: 1.456873\n",
      "(Iteration 1231 / 3820) loss: 1.241162\n",
      "(Iteration 1241 / 3820) loss: 1.317802\n",
      "(Iteration 1251 / 3820) loss: 1.302490\n",
      "(Iteration 1261 / 3820) loss: 1.395491\n",
      "(Iteration 1271 / 3820) loss: 1.297015\n",
      "(Iteration 1281 / 3820) loss: 1.404798\n",
      "(Iteration 1291 / 3820) loss: 1.546819\n",
      "(Iteration 1301 / 3820) loss: 1.345140\n",
      "(Iteration 1311 / 3820) loss: 1.193090\n",
      "(Iteration 1321 / 3820) loss: 1.346528\n",
      "(Iteration 1331 / 3820) loss: 1.380832\n",
      "(Iteration 1341 / 3820) loss: 1.386928\n",
      "(Iteration 1351 / 3820) loss: 1.367912\n",
      "(Iteration 1361 / 3820) loss: 1.284951\n",
      "(Iteration 1371 / 3820) loss: 1.327727\n",
      "(Iteration 1381 / 3820) loss: 1.253940\n",
      "(Iteration 1391 / 3820) loss: 1.304254\n",
      "(Iteration 1401 / 3820) loss: 1.434460\n",
      "(Iteration 1411 / 3820) loss: 1.562015\n",
      "(Iteration 1421 / 3820) loss: 1.475951\n",
      "(Iteration 1431 / 3820) loss: 1.403082\n",
      "(Iteration 1441 / 3820) loss: 1.236272\n",
      "(Iteration 1451 / 3820) loss: 1.414121\n",
      "(Iteration 1461 / 3820) loss: 1.302986\n",
      "(Iteration 1471 / 3820) loss: 1.362028\n",
      "(Iteration 1481 / 3820) loss: 1.383334\n",
      "(Iteration 1491 / 3820) loss: 1.319254\n",
      "(Iteration 1501 / 3820) loss: 1.290355\n",
      "(Iteration 1511 / 3820) loss: 1.330047\n",
      "(Iteration 1521 / 3820) loss: 1.186463\n",
      "(Epoch 4 / 10) train acc: 0.514000; val_acc: 0.469000\n",
      "(Iteration 1531 / 3820) loss: 1.370770\n",
      "(Iteration 1541 / 3820) loss: 1.186410\n",
      "(Iteration 1551 / 3820) loss: 1.229823\n",
      "(Iteration 1561 / 3820) loss: 1.352437\n",
      "(Iteration 1571 / 3820) loss: 1.369211\n",
      "(Iteration 1581 / 3820) loss: 1.330483\n",
      "(Iteration 1591 / 3820) loss: 1.303171\n",
      "(Iteration 1601 / 3820) loss: 1.285945\n",
      "(Iteration 1611 / 3820) loss: 1.523765\n",
      "(Iteration 1621 / 3820) loss: 1.418130\n",
      "(Iteration 1631 / 3820) loss: 1.386074\n",
      "(Iteration 1641 / 3820) loss: 1.447090\n",
      "(Iteration 1651 / 3820) loss: 1.344037\n",
      "(Iteration 1661 / 3820) loss: 1.438401\n",
      "(Iteration 1671 / 3820) loss: 1.474475\n",
      "(Iteration 1681 / 3820) loss: 1.537981\n",
      "(Iteration 1691 / 3820) loss: 1.300133\n",
      "(Iteration 1701 / 3820) loss: 1.405365\n",
      "(Iteration 1711 / 3820) loss: 1.432705\n",
      "(Iteration 1721 / 3820) loss: 1.407936\n",
      "(Iteration 1731 / 3820) loss: 1.411767\n",
      "(Iteration 1741 / 3820) loss: 1.378809\n",
      "(Iteration 1751 / 3820) loss: 1.301108\n",
      "(Iteration 1761 / 3820) loss: 1.245673\n",
      "(Iteration 1771 / 3820) loss: 1.308352\n",
      "(Iteration 1781 / 3820) loss: 1.296569\n",
      "(Iteration 1791 / 3820) loss: 1.335936\n",
      "(Iteration 1801 / 3820) loss: 1.369401\n",
      "(Iteration 1811 / 3820) loss: 1.165320\n",
      "(Iteration 1821 / 3820) loss: 1.437243\n",
      "(Iteration 1831 / 3820) loss: 1.458788\n",
      "(Iteration 1841 / 3820) loss: 1.246109\n",
      "(Iteration 1851 / 3820) loss: 1.282072\n",
      "(Iteration 1861 / 3820) loss: 1.556048\n",
      "(Iteration 1871 / 3820) loss: 1.336526\n",
      "(Iteration 1881 / 3820) loss: 1.273215\n",
      "(Iteration 1891 / 3820) loss: 1.472018\n",
      "(Iteration 1901 / 3820) loss: 1.472385\n",
      "(Epoch 5 / 10) train acc: 0.514000; val_acc: 0.474000\n",
      "(Iteration 1911 / 3820) loss: 1.400962\n",
      "(Iteration 1921 / 3820) loss: 1.276337\n",
      "(Iteration 1931 / 3820) loss: 1.464615\n",
      "(Iteration 1941 / 3820) loss: 1.250841\n",
      "(Iteration 1951 / 3820) loss: 1.205168\n",
      "(Iteration 1961 / 3820) loss: 1.365436\n",
      "(Iteration 1971 / 3820) loss: 1.275960\n",
      "(Iteration 1981 / 3820) loss: 1.403698\n",
      "(Iteration 1991 / 3820) loss: 1.457189\n",
      "(Iteration 2001 / 3820) loss: 1.311887\n",
      "(Iteration 2011 / 3820) loss: 1.229885\n",
      "(Iteration 2021 / 3820) loss: 1.168869\n",
      "(Iteration 2031 / 3820) loss: 1.269729\n",
      "(Iteration 2041 / 3820) loss: 1.162580\n"
     ]
    },
    {
     "name": "stdout",
     "output_type": "stream",
     "text": [
      "(Iteration 2051 / 3820) loss: 1.307482\n",
      "(Iteration 2061 / 3820) loss: 1.592562\n",
      "(Iteration 2071 / 3820) loss: 1.184617\n",
      "(Iteration 2081 / 3820) loss: 1.448278\n",
      "(Iteration 2091 / 3820) loss: 1.491506\n",
      "(Iteration 2101 / 3820) loss: 1.401687\n",
      "(Iteration 2111 / 3820) loss: 1.072687\n",
      "(Iteration 2121 / 3820) loss: 1.223921\n",
      "(Iteration 2131 / 3820) loss: 1.273386\n",
      "(Iteration 2141 / 3820) loss: 1.409819\n",
      "(Iteration 2151 / 3820) loss: 1.290323\n",
      "(Iteration 2161 / 3820) loss: 1.419211\n",
      "(Iteration 2171 / 3820) loss: 1.133798\n",
      "(Iteration 2181 / 3820) loss: 1.166698\n",
      "(Iteration 2191 / 3820) loss: 1.231712\n",
      "(Iteration 2201 / 3820) loss: 1.120249\n",
      "(Iteration 2211 / 3820) loss: 1.274920\n",
      "(Iteration 2221 / 3820) loss: 1.607430\n",
      "(Iteration 2231 / 3820) loss: 1.321141\n",
      "(Iteration 2241 / 3820) loss: 1.384320\n",
      "(Iteration 2251 / 3820) loss: 1.231748\n",
      "(Iteration 2261 / 3820) loss: 1.171153\n",
      "(Iteration 2271 / 3820) loss: 1.174503\n",
      "(Iteration 2281 / 3820) loss: 1.438319\n",
      "(Iteration 2291 / 3820) loss: 1.110509\n",
      "(Epoch 6 / 10) train acc: 0.546000; val_acc: 0.508000\n",
      "(Iteration 2301 / 3820) loss: 1.262501\n",
      "(Iteration 2311 / 3820) loss: 1.401875\n",
      "(Iteration 2321 / 3820) loss: 1.382654\n",
      "(Iteration 2331 / 3820) loss: 1.359146\n",
      "(Iteration 2341 / 3820) loss: 1.284979\n",
      "(Iteration 2351 / 3820) loss: 1.119771\n",
      "(Iteration 2361 / 3820) loss: 1.483802\n",
      "(Iteration 2371 / 3820) loss: 1.219703\n",
      "(Iteration 2381 / 3820) loss: 1.156750\n",
      "(Iteration 2391 / 3820) loss: 1.339556\n",
      "(Iteration 2401 / 3820) loss: 1.263594\n",
      "(Iteration 2411 / 3820) loss: 1.329419\n",
      "(Iteration 2421 / 3820) loss: 1.269458\n",
      "(Iteration 2431 / 3820) loss: 1.340116\n",
      "(Iteration 2441 / 3820) loss: 1.401869\n",
      "(Iteration 2451 / 3820) loss: 1.311599\n",
      "(Iteration 2461 / 3820) loss: 1.157421\n",
      "(Iteration 2471 / 3820) loss: 1.366986\n",
      "(Iteration 2481 / 3820) loss: 1.230423\n",
      "(Iteration 2491 / 3820) loss: 1.405814\n",
      "(Iteration 2501 / 3820) loss: 1.360845\n",
      "(Iteration 2511 / 3820) loss: 1.344821\n",
      "(Iteration 2521 / 3820) loss: 1.171831\n",
      "(Iteration 2531 / 3820) loss: 1.327096\n",
      "(Iteration 2541 / 3820) loss: 1.202523\n",
      "(Iteration 2551 / 3820) loss: 1.272372\n",
      "(Iteration 2561 / 3820) loss: 1.511154\n",
      "(Iteration 2571 / 3820) loss: 1.061858\n",
      "(Iteration 2581 / 3820) loss: 1.244595\n",
      "(Iteration 2591 / 3820) loss: 1.260218\n",
      "(Iteration 2601 / 3820) loss: 1.118095\n",
      "(Iteration 2611 / 3820) loss: 1.387042\n",
      "(Iteration 2621 / 3820) loss: 1.010202\n",
      "(Iteration 2631 / 3820) loss: 1.487155\n",
      "(Iteration 2641 / 3820) loss: 1.137611\n",
      "(Iteration 2651 / 3820) loss: 1.083491\n",
      "(Iteration 2661 / 3820) loss: 1.366361\n",
      "(Iteration 2671 / 3820) loss: 1.294961\n",
      "(Epoch 7 / 10) train acc: 0.550000; val_acc: 0.493000\n",
      "(Iteration 2681 / 3820) loss: 1.386521\n",
      "(Iteration 2691 / 3820) loss: 1.185158\n",
      "(Iteration 2701 / 3820) loss: 1.250673\n",
      "(Iteration 2711 / 3820) loss: 1.415655\n",
      "(Iteration 2721 / 3820) loss: 1.244377\n",
      "(Iteration 2731 / 3820) loss: 1.372562\n",
      "(Iteration 2741 / 3820) loss: 1.230340\n",
      "(Iteration 2751 / 3820) loss: 1.156045\n",
      "(Iteration 2761 / 3820) loss: 1.222568\n",
      "(Iteration 2771 / 3820) loss: 1.296077\n",
      "(Iteration 2781 / 3820) loss: 1.337228\n",
      "(Iteration 2791 / 3820) loss: 1.262611\n",
      "(Iteration 2801 / 3820) loss: 1.277787\n",
      "(Iteration 2811 / 3820) loss: 1.328176\n",
      "(Iteration 2821 / 3820) loss: 1.321102\n",
      "(Iteration 2831 / 3820) loss: 1.440846\n",
      "(Iteration 2841 / 3820) loss: 1.265102\n",
      "(Iteration 2851 / 3820) loss: 1.200945\n",
      "(Iteration 2861 / 3820) loss: 1.204008\n",
      "(Iteration 2871 / 3820) loss: 1.187879\n",
      "(Iteration 2881 / 3820) loss: 1.237309\n",
      "(Iteration 2891 / 3820) loss: 1.205308\n",
      "(Iteration 2901 / 3820) loss: 1.042467\n",
      "(Iteration 2911 / 3820) loss: 1.152809\n",
      "(Iteration 2921 / 3820) loss: 1.289594\n",
      "(Iteration 2931 / 3820) loss: 1.141000\n",
      "(Iteration 2941 / 3820) loss: 1.089693\n",
      "(Iteration 2951 / 3820) loss: 1.494323\n",
      "(Iteration 2961 / 3820) loss: 1.306888\n",
      "(Iteration 2971 / 3820) loss: 1.452219\n",
      "(Iteration 2981 / 3820) loss: 1.156453\n",
      "(Iteration 2991 / 3820) loss: 1.236850\n",
      "(Iteration 3001 / 3820) loss: 1.343561\n",
      "(Iteration 3011 / 3820) loss: 1.144308\n",
      "(Iteration 3021 / 3820) loss: 1.172146\n",
      "(Iteration 3031 / 3820) loss: 1.135831\n",
      "(Iteration 3041 / 3820) loss: 1.315972\n",
      "(Iteration 3051 / 3820) loss: 1.092919\n",
      "(Epoch 8 / 10) train acc: 0.534000; val_acc: 0.459000\n",
      "(Iteration 3061 / 3820) loss: 1.170589\n",
      "(Iteration 3071 / 3820) loss: 1.187040\n",
      "(Iteration 3081 / 3820) loss: 1.284779\n",
      "(Iteration 3091 / 3820) loss: 1.199469\n",
      "(Iteration 3101 / 3820) loss: 1.093283\n",
      "(Iteration 3111 / 3820) loss: 1.249813\n",
      "(Iteration 3121 / 3820) loss: 1.245259\n",
      "(Iteration 3131 / 3820) loss: 1.255042\n",
      "(Iteration 3141 / 3820) loss: 1.393108\n",
      "(Iteration 3151 / 3820) loss: 1.185817\n",
      "(Iteration 3161 / 3820) loss: 1.206680\n",
      "(Iteration 3171 / 3820) loss: 1.174976\n",
      "(Iteration 3181 / 3820) loss: 1.114665\n",
      "(Iteration 3191 / 3820) loss: 1.281075\n",
      "(Iteration 3201 / 3820) loss: 1.183473\n",
      "(Iteration 3211 / 3820) loss: 1.219578\n",
      "(Iteration 3221 / 3820) loss: 1.191911\n",
      "(Iteration 3231 / 3820) loss: 1.145097\n",
      "(Iteration 3241 / 3820) loss: 1.067819\n",
      "(Iteration 3251 / 3820) loss: 1.121756\n",
      "(Iteration 3261 / 3820) loss: 1.336193\n",
      "(Iteration 3271 / 3820) loss: 1.271635\n",
      "(Iteration 3281 / 3820) loss: 1.439847\n",
      "(Iteration 3291 / 3820) loss: 1.138659\n",
      "(Iteration 3301 / 3820) loss: 1.012896\n",
      "(Iteration 3311 / 3820) loss: 1.275344\n",
      "(Iteration 3321 / 3820) loss: 1.226003\n",
      "(Iteration 3331 / 3820) loss: 1.045313\n",
      "(Iteration 3341 / 3820) loss: 1.112702\n",
      "(Iteration 3351 / 3820) loss: 1.221658\n",
      "(Iteration 3361 / 3820) loss: 1.263134\n",
      "(Iteration 3371 / 3820) loss: 1.269089\n",
      "(Iteration 3381 / 3820) loss: 1.088205\n",
      "(Iteration 3391 / 3820) loss: 1.178896\n",
      "(Iteration 3401 / 3820) loss: 1.164213\n",
      "(Iteration 3411 / 3820) loss: 1.228231\n",
      "(Iteration 3421 / 3820) loss: 1.402587\n",
      "(Iteration 3431 / 3820) loss: 1.238046\n",
      "(Epoch 9 / 10) train acc: 0.590000; val_acc: 0.502000\n",
      "(Iteration 3441 / 3820) loss: 1.108349\n",
      "(Iteration 3451 / 3820) loss: 1.116688\n",
      "(Iteration 3461 / 3820) loss: 1.289893\n",
      "(Iteration 3471 / 3820) loss: 1.143121\n",
      "(Iteration 3481 / 3820) loss: 1.147251\n",
      "(Iteration 3491 / 3820) loss: 1.288675\n",
      "(Iteration 3501 / 3820) loss: 0.984489\n",
      "(Iteration 3511 / 3820) loss: 1.287522\n",
      "(Iteration 3521 / 3820) loss: 1.300745\n",
      "(Iteration 3531 / 3820) loss: 1.278326\n",
      "(Iteration 3541 / 3820) loss: 1.072573\n",
      "(Iteration 3551 / 3820) loss: 1.017339\n",
      "(Iteration 3561 / 3820) loss: 1.089143\n",
      "(Iteration 3571 / 3820) loss: 1.255196\n",
      "(Iteration 3581 / 3820) loss: 1.208316\n",
      "(Iteration 3591 / 3820) loss: 1.172187\n",
      "(Iteration 3601 / 3820) loss: 1.248356\n",
      "(Iteration 3611 / 3820) loss: 1.221945\n",
      "(Iteration 3621 / 3820) loss: 1.143942\n",
      "(Iteration 3631 / 3820) loss: 1.225038\n",
      "(Iteration 3641 / 3820) loss: 1.257715\n",
      "(Iteration 3651 / 3820) loss: 1.198652\n",
      "(Iteration 3661 / 3820) loss: 1.267247\n",
      "(Iteration 3671 / 3820) loss: 1.247961\n",
      "(Iteration 3681 / 3820) loss: 1.130742\n",
      "(Iteration 3691 / 3820) loss: 1.316465\n",
      "(Iteration 3701 / 3820) loss: 1.156758\n",
      "(Iteration 3711 / 3820) loss: 1.177289\n",
      "(Iteration 3721 / 3820) loss: 1.137354\n",
      "(Iteration 3731 / 3820) loss: 1.225798\n",
      "(Iteration 3741 / 3820) loss: 1.188675\n",
      "(Iteration 3751 / 3820) loss: 0.996073\n",
      "(Iteration 3761 / 3820) loss: 1.286299\n",
      "(Iteration 3771 / 3820) loss: 1.108375\n",
      "(Iteration 3781 / 3820) loss: 1.078770\n",
      "(Iteration 3791 / 3820) loss: 1.128844\n",
      "(Iteration 3801 / 3820) loss: 1.263588\n",
      "(Iteration 3811 / 3820) loss: 1.179904\n",
      "(Epoch 10 / 10) train acc: 0.575000; val_acc: 0.491000\n"
     ]
    }
   ],
   "source": [
    "model = TwoLayerNet()\n",
    "solver = None\n",
    "\n",
    "##############################################################################\n",
    "# TODO: Use a Solver instance to train a TwoLayerNet that achieves at least  #\n",
    "# 50% accuracy on the validation set.                                        #\n",
    "##############################################################################\n",
    "# *****START OF YOUR CODE (DO NOT DELETE/MODIFY THIS LINE)*****\n",
    "\n",
    "X_train = data['X_train']\n",
    "y_train = data['y_train']\n",
    "X_val = data['X_val']\n",
    "y_val = data['y_val']\n",
    "data = {\n",
    "    'X_train': X_train,\n",
    "    'y_train': y_train,\n",
    "    'X_val': X_val,\n",
    "    'y_val': y_val,\n",
    "}\n",
    "solver = Solver(model, data, batch_size=128, optim_config={'learning_rate': 1e-3})\n",
    "solver.train()\n",
    "\n",
    "# *****END OF YOUR CODE (DO NOT DELETE/MODIFY THIS LINE)*****\n",
    "##############################################################################\n",
    "#                             END OF YOUR CODE                               #\n",
    "##############################################################################"
   ]
  },
  {
   "cell_type": "code",
   "execution_count": 12,
   "metadata": {},
   "outputs": [
    {
     "data": {
      "image/png": "[encoded data removed]",
      "text/plain": [
       "<Figure size 1080x864 with 2 Axes>"
      ]
     },
     "metadata": {
      "needs_background": "light"
     },
     "output_type": "display_data"
    }
   ],
   "source": [
    "# Run this cell to visualize training loss and train / val accuracy\n",
    "\n",
    "plt.subplot(2, 1, 1)\n",
    "plt.title('Training loss')\n",
    "plt.plot(solver.loss_history, 'o')\n",
    "plt.xlabel('Iteration')\n",
    "\n",
    "plt.subplot(2, 1, 2)\n",
    "plt.title('Accuracy')\n",
    "plt.plot(solver.train_acc_history, '-o', label='train')\n",
    "plt.plot(solver.val_acc_history, '-o', label='val')\n",
    "plt.plot([0.5] * len(solver.val_acc_history), 'k--')\n",
    "plt.xlabel('Epoch')\n",
    "plt.legend(loc='lower right')\n",
    "plt.gcf().set_size_inches(15, 12)\n",
    "plt.show()"
   ]
  },
  {
   "cell_type": "markdown",
   "metadata": {},
   "source": [
    "# Multilayer network\n",
    "Next you will implement a fully-connected network with an arbitrary number of hidden layers.\n",
    "\n",
    "Read through the `FullyConnectedNet` class in the file `cs231n/classifiers/fc_net.py`.\n",
    "\n",
    "Implement the initialization, the forward pass, and the backward pass. For the moment don't worry about implementing dropout or batch/layer normalization; we will add those features soon."
   ]
  },
  {
   "cell_type": "markdown",
   "metadata": {},
   "source": [
    "## Initial loss and gradient check\n",
    "\n",
    "As a sanity check, run the following to check the initial loss and to gradient check the network both with and without regularization. Do the initial losses seem reasonable?\n",
    "\n",
    "For gradient checking, you should expect to see errors around 1e-7 or less."
   ]
  },
  {
   "cell_type": "code",
   "execution_count": 13,
   "metadata": {
    "scrolled": true
   },
   "outputs": [
    {
     "name": "stdout",
     "output_type": "stream",
     "text": [
      "Running check with reg =  0\n",
      "Initial loss:  2.3004790897684924\n",
      "W1 relative error: 1.48e-07\n",
      "W2 relative error: 2.21e-05\n",
      "W3 relative error: 3.53e-07\n",
      "b1 relative error: 5.38e-09\n",
      "b2 relative error: 2.09e-09\n",
      "b3 relative error: 5.80e-11\n",
      "Running check with reg =  3.14\n",
      "Initial loss:  7.052114776533016\n",
      "W1 relative error: 3.90e-09\n",
      "W2 relative error: 6.87e-08\n",
      "W3 relative error: 2.13e-08\n",
      "b1 relative error: 1.48e-08\n",
      "b2 relative error: 1.72e-09\n",
      "b3 relative error: 1.57e-10\n"
     ]
    }
   ],
   "source": [
    "np.random.seed(231)\n",
    "N, D, H1, H2, C = 2, 15, 20, 30, 10\n",
    "X = np.random.randn(N, D)\n",
    "y = np.random.randint(C, size=(N,))\n",
    "\n",
    "for reg in [0, 3.14]:\n",
    "  print('Running check with reg = ', reg)\n",
    "  model = FullyConnectedNet([H1, H2], input_dim=D, num_classes=C,\n",
    "                            reg=reg, weight_scale=5e-2, dtype=np.float64)\n",
    "\n",
    "  loss, grads = model.loss(X, y)\n",
    "  print('Initial loss: ', loss)\n",
    "  \n",
    "  # Most of the errors should be on the order of e-7 or smaller.   \n",
    "  # NOTE: It is fine however to see an error for W2 on the order of e-5\n",
    "  # for the check when reg = 0.0\n",
    "  for name in sorted(grads):\n",
    "    f = lambda _: model.loss(X, y)[0]\n",
    "    grad_num = eval_numerical_gradient(f, model.params[name], verbose=False, h=1e-5)\n",
    "    print('%s relative error: %.2e' % (name, rel_error(grad_num, grads[name])))"
   ]
  },
  {
   "cell_type": "markdown",
   "metadata": {},
   "source": [
    "As another sanity check, make sure you can overfit a small dataset of 50 images. First we will try a three-layer network with 100 units in each hidden layer. In the following cell, tweak the **learning rate** and **weight initialization scale** to overfit and achieve 100% training accuracy within 20 epochs."
   ]
  },
  {
   "cell_type": "code",
   "execution_count": 14,
   "metadata": {
    "scrolled": true
   },
   "outputs": [
    {
     "name": "stdout",
     "output_type": "stream",
     "text": [
      "(Iteration 1 / 40) loss: 2.363364\n",
      "(Epoch 0 / 20) train acc: 0.180000; val_acc: 0.108000\n",
      "(Epoch 1 / 20) train acc: 0.320000; val_acc: 0.127000\n",
      "(Epoch 2 / 20) train acc: 0.440000; val_acc: 0.172000\n",
      "(Epoch 3 / 20) train acc: 0.500000; val_acc: 0.184000\n",
      "(Epoch 4 / 20) train acc: 0.540000; val_acc: 0.181000\n",
      "(Epoch 5 / 20) train acc: 0.740000; val_acc: 0.190000\n",
      "(Iteration 11 / 40) loss: 0.839976\n",
      "(Epoch 6 / 20) train acc: 0.740000; val_acc: 0.187000\n",
      "(Epoch 7 / 20) train acc: 0.740000; val_acc: 0.183000\n",
      "(Epoch 8 / 20) train acc: 0.820000; val_acc: 0.177000\n",
      "(Epoch 9 / 20) train acc: 0.860000; val_acc: 0.200000\n",
      "(Epoch 10 / 20) train acc: 0.920000; val_acc: 0.191000\n",
      "(Iteration 21 / 40) loss: 0.337174\n",
      "(Epoch 11 / 20) train acc: 0.960000; val_acc: 0.189000\n",
      "(Epoch 12 / 20) train acc: 0.940000; val_acc: 0.180000\n",
      "(Epoch 13 / 20) train acc: 1.000000; val_acc: 0.199000\n",
      "(Epoch 14 / 20) train acc: 1.000000; val_acc: 0.199000\n",
      "(Epoch 15 / 20) train acc: 1.000000; val_acc: 0.195000\n",
      "(Iteration 31 / 40) loss: 0.075911\n",
      "(Epoch 16 / 20) train acc: 1.000000; val_acc: 0.182000\n",
      "(Epoch 17 / 20) train acc: 1.000000; val_acc: 0.201000\n",
      "(Epoch 18 / 20) train acc: 1.000000; val_acc: 0.207000\n",
      "(Epoch 19 / 20) train acc: 1.000000; val_acc: 0.185000\n",
      "(Epoch 20 / 20) train acc: 1.000000; val_acc: 0.192000\n"
     ]
    },
    {
     "data": {
      "image/png": "[encoded data removed]",
      "text/plain": [
       "<Figure size 432x288 with 1 Axes>"
      ]
     },
     "metadata": {
      "needs_background": "light"
     },
     "output_type": "display_data"
    }
   ],
   "source": [
    "# TODO: Use a three-layer Net to overfit 50 training examples by \n",
    "# tweaking just the learning rate and initialization scale.\n",
    "\n",
    "num_train = 50\n",
    "small_data = {\n",
    "  'X_train': data['X_train'][:num_train],\n",
    "  'y_train': data['y_train'][:num_train],\n",
    "  'X_val': data['X_val'],\n",
    "  'y_val': data['y_val'],\n",
    "}\n",
    "\n",
    "weight_scale = 1e-2   # Experiment with this!\n",
    "learning_rate = 1e-2  # Experiment with this!\n",
    "model = FullyConnectedNet([100, 100],\n",
    "              weight_scale=weight_scale, dtype=np.float64)\n",
    "solver = Solver(model, small_data,\n",
    "                print_every=10, num_epochs=20, batch_size=25,\n",
    "                update_rule='sgd',\n",
    "                optim_config={\n",
    "                  'learning_rate': learning_rate,\n",
    "                }\n",
    "         )\n",
    "solver.train()\n",
    "\n",
    "plt.plot(solver.loss_history, 'o')\n",
    "plt.title('Training loss history')\n",
    "plt.xlabel('Iteration')\n",
    "plt.ylabel('Training loss')\n",
    "plt.show()"
   ]
  },
  {
   "cell_type": "markdown",
   "metadata": {},
   "source": [
    "Now try to use a five-layer network with 100 units on each layer to overfit 50 training examples. Again, you will have to adjust the learning rate and weight initialization scale, but you should be able to achieve 100% training accuracy within 20 epochs."
   ]
  },
  {
   "cell_type": "code",
   "execution_count": 15,
   "metadata": {
    "scrolled": true
   },
   "outputs": [
    {
     "name": "stdout",
     "output_type": "stream",
     "text": [
      "(Iteration 1 / 40) loss: 98.325850\n",
      "(Epoch 0 / 20) train acc: 0.160000; val_acc: 0.111000\n",
      "(Epoch 1 / 20) train acc: 0.240000; val_acc: 0.082000\n",
      "(Epoch 2 / 20) train acc: 0.300000; val_acc: 0.106000\n",
      "(Epoch 3 / 20) train acc: 0.480000; val_acc: 0.120000\n",
      "(Epoch 4 / 20) train acc: 0.680000; val_acc: 0.123000\n",
      "(Epoch 5 / 20) train acc: 0.840000; val_acc: 0.137000\n",
      "(Iteration 11 / 40) loss: 0.873759\n",
      "(Epoch 6 / 20) train acc: 0.900000; val_acc: 0.129000\n",
      "(Epoch 7 / 20) train acc: 0.940000; val_acc: 0.127000\n",
      "(Epoch 8 / 20) train acc: 1.000000; val_acc: 0.133000\n",
      "(Epoch 9 / 20) train acc: 1.000000; val_acc: 0.129000\n",
      "(Epoch 10 / 20) train acc: 1.000000; val_acc: 0.129000\n",
      "(Iteration 21 / 40) loss: 0.002604\n",
      "(Epoch 11 / 20) train acc: 1.000000; val_acc: 0.128000\n",
      "(Epoch 12 / 20) train acc: 1.000000; val_acc: 0.128000\n",
      "(Epoch 13 / 20) train acc: 1.000000; val_acc: 0.128000\n",
      "(Epoch 14 / 20) train acc: 1.000000; val_acc: 0.129000\n",
      "(Epoch 15 / 20) train acc: 1.000000; val_acc: 0.131000\n",
      "(Iteration 31 / 40) loss: 0.003609\n",
      "(Epoch 16 / 20) train acc: 1.000000; val_acc: 0.130000\n",
      "(Epoch 17 / 20) train acc: 1.000000; val_acc: 0.131000\n",
      "(Epoch 18 / 20) train acc: 1.000000; val_acc: 0.129000\n",
      "(Epoch 19 / 20) train acc: 1.000000; val_acc: 0.129000\n",
      "(Epoch 20 / 20) train acc: 1.000000; val_acc: 0.129000\n"
     ]
    },
    {
     "data": {
      "image/png": "[encoded data removed]",
      "text/plain": [
       "<Figure size 432x288 with 1 Axes>"
      ]
     },
     "metadata": {
      "needs_background": "light"
     },
     "output_type": "display_data"
    }
   ],
   "source": [
    "# TODO: Use a five-layer Net to overfit 50 training examples by \n",
    "# tweaking just the learning rate and initialization scale.\n",
    "\n",
    "num_train = 50\n",
    "small_data = {\n",
    "  'X_train': data['X_train'][:num_train],\n",
    "  'y_train': data['y_train'][:num_train],\n",
    "  'X_val': data['X_val'],\n",
    "  'y_val': data['y_val'],\n",
    "}\n",
    "\n",
    "learning_rate = 2e-3\n",
    "weight_scale = 9e-2  # Experiment with this!\n",
    "model = FullyConnectedNet([100, 100, 100, 100],\n",
    "                weight_scale=weight_scale, dtype=np.float64)\n",
    "solver = Solver(model, small_data,\n",
    "                print_every=10, num_epochs=20, batch_size=25,\n",
    "                update_rule='sgd',\n",
    "                optim_config={\n",
    "                  'learning_rate': learning_rate,\n",
    "                }\n",
    "         )\n",
    "solver.train()\n",
    "\n",
    "plt.plot(solver.loss_history, 'o')\n",
    "plt.title('Training loss history')\n",
    "plt.xlabel('Iteration')\n",
    "plt.ylabel('Training loss')\n",
    "plt.show()"
   ]
  },
  {
   "cell_type": "markdown",
   "metadata": {
    "tags": [
     "pdf-inline"
    ]
   },
   "source": [
    "## Inline Question 2: \n",
    "Did you notice anything about the comparative difficulty of training the three-layer net vs training the five layer net? In particular, based on your experience, which network seemed more sensitive to the initialization scale? Why do you think that is the case?\n",
    "\n",
    "## Answer:\n",
    "[FILL THIS IN]\n"
   ]
  },
  {
   "cell_type": "markdown",
   "metadata": {},
   "source": [
    "# Update rules\n",
    "So far we have used vanilla stochastic gradient descent (SGD) as our update rule. More sophisticated update rules can make it easier to train deep networks. We will implement a few of the most commonly used update rules and compare them to vanilla SGD."
   ]
  },
  {
   "cell_type": "markdown",
   "metadata": {},
   "source": [
    "# SGD+Momentum\n",
    "Stochastic gradient descent with momentum is a widely used update rule that tends to make deep networks converge faster than vanilla stochastic gradient descent. See the Momentum Update section at http://cs231n.github.io/neural-networks-3/#sgd for more information.\n",
    "\n",
    "Open the file `cs231n/optim.py` and read the documentation at the top of the file to make sure you understand the API. Implement the SGD+momentum update rule in the function `sgd_momentum` and run the following to check your implementation. You should see errors less than e-8."
   ]
  },
  {
   "cell_type": "code",
   "execution_count": 16,
   "metadata": {},
   "outputs": [
    {
     "name": "stdout",
     "output_type": "stream",
     "text": [
      "next_w error:  8.882347033505819e-09\n",
      "velocity error:  4.269287743278663e-09\n"
     ]
    }
   ],
   "source": [
    "from cs231n.optim import sgd_momentum\n",
    "\n",
    "N, D = 4, 5\n",
    "w = np.linspace(-0.4, 0.6, num=N*D).reshape(N, D)\n",
    "dw = np.linspace(-0.6, 0.4, num=N*D).reshape(N, D)\n",
    "v = np.linspace(0.6, 0.9, num=N*D).reshape(N, D)\n",
    "\n",
    "config = {'learning_rate': 1e-3, 'velocity': v}\n",
    "next_w, _ = sgd_momentum(w, dw, config=config)\n",
    "\n",
    "expected_next_w = np.asarray([\n",
    "  [ 0.1406,      0.20738947,  0.27417895,  0.34096842,  0.40775789],\n",
    "  [ 0.47454737,  0.54133684,  0.60812632,  0.67491579,  0.74170526],\n",
    "  [ 0.80849474,  0.87528421,  0.94207368,  1.00886316,  1.07565263],\n",
    "  [ 1.14244211,  1.20923158,  1.27602105,  1.34281053,  1.4096    ]])\n",
    "expected_velocity = np.asarray([\n",
    "  [ 0.5406,      0.55475789,  0.56891579, 0.58307368,  0.59723158],\n",
    "  [ 0.61138947,  0.62554737,  0.63970526,  0.65386316,  0.66802105],\n",
    "  [ 0.68217895,  0.69633684,  0.71049474,  0.72465263,  0.73881053],\n",
    "  [ 0.75296842,  0.76712632,  0.78128421,  0.79544211,  0.8096    ]])\n",
    "\n",
    "# Should see relative errors around e-8 or less\n",
    "print('next_w error: ', rel_error(next_w, expected_next_w))\n",
    "print('velocity error: ', rel_error(expected_velocity, config['velocity']))"
   ]
  },
  {
   "cell_type": "markdown",
   "metadata": {},
   "source": [
    "Once you have done so, run the following to train a six-layer network with both SGD and SGD+momentum. You should see the SGD+momentum update rule converge faster."
   ]
  },
  {
   "cell_type": "code",
   "execution_count": 22,
   "metadata": {
    "scrolled": false
   },
   "outputs": [
    {
     "name": "stdout",
     "output_type": "stream",
     "text": [
      "running with  sgd\n",
      "(Iteration 1 / 200) loss: 2.607057\n",
      "(Epoch 0 / 5) train acc: 0.102000; val_acc: 0.094000\n",
      "(Iteration 11 / 200) loss: 2.319238\n",
      "(Iteration 21 / 200) loss: 2.237835\n",
      "(Iteration 31 / 200) loss: 2.228190\n",
      "(Epoch 1 / 5) train acc: 0.211000; val_acc: 0.150000\n",
      "(Iteration 41 / 200) loss: 2.256633\n",
      "(Iteration 51 / 200) loss: 2.149957\n",
      "(Iteration 61 / 200) loss: 2.151825\n",
      "(Iteration 71 / 200) loss: 2.071062\n",
      "(Epoch 2 / 5) train acc: 0.226000; val_acc: 0.195000\n",
      "(Iteration 81 / 200) loss: 2.089396\n",
      "(Iteration 91 / 200) loss: 2.112302\n",
      "(Iteration 101 / 200) loss: 1.993223\n",
      "(Iteration 111 / 200) loss: 2.062179\n",
      "(Epoch 3 / 5) train acc: 0.264000; val_acc: 0.218000\n",
      "(Iteration 121 / 200) loss: 2.038740\n",
      "(Iteration 131 / 200) loss: 1.998807\n",
      "(Iteration 141 / 200) loss: 2.040682\n",
      "(Iteration 151 / 200) loss: 2.006326\n",
      "(Epoch 4 / 5) train acc: 0.338000; val_acc: 0.232000\n",
      "(Iteration 161 / 200) loss: 1.869673\n",
      "(Iteration 171 / 200) loss: 1.873035\n",
      "(Iteration 181 / 200) loss: 1.920472\n",
      "(Iteration 191 / 200) loss: 1.862775\n",
      "(Epoch 5 / 5) train acc: 0.333000; val_acc: 0.249000\n",
      "\n",
      "running with  sgd_momentum\n",
      "(Iteration 1 / 200) loss: 2.554318\n",
      "(Epoch 0 / 5) train acc: 0.090000; val_acc: 0.093000\n",
      "(Iteration 11 / 200) loss: 2.275267\n",
      "(Iteration 21 / 200) loss: 2.151830\n",
      "(Iteration 31 / 200) loss: 2.003128\n",
      "(Epoch 1 / 5) train acc: 0.301000; val_acc: 0.290000\n",
      "(Iteration 41 / 200) loss: 2.003355\n",
      "(Iteration 51 / 200) loss: 1.935263\n",
      "(Iteration 61 / 200) loss: 1.874837\n",
      "(Iteration 71 / 200) loss: 1.764849\n",
      "(Epoch 2 / 5) train acc: 0.364000; val_acc: 0.304000\n",
      "(Iteration 81 / 200) loss: 1.719892\n",
      "(Iteration 91 / 200) loss: 1.493742\n",
      "(Iteration 101 / 200) loss: 1.757540\n",
      "(Iteration 111 / 200) loss: 1.626083\n",
      "(Epoch 3 / 5) train acc: 0.436000; val_acc: 0.321000\n",
      "(Iteration 121 / 200) loss: 1.541342\n",
      "(Iteration 131 / 200) loss: 1.518235\n",
      "(Iteration 141 / 200) loss: 1.401997\n",
      "(Iteration 151 / 200) loss: 1.507024\n",
      "(Epoch 4 / 5) train acc: 0.485000; val_acc: 0.326000\n",
      "(Iteration 161 / 200) loss: 1.378789\n",
      "(Iteration 171 / 200) loss: 1.406844\n",
      "(Iteration 181 / 200) loss: 1.466398\n",
      "(Iteration 191 / 200) loss: 1.600379\n",
      "(Epoch 5 / 5) train acc: 0.493000; val_acc: 0.331000\n",
      "\n"
     ]
    },
    {
     "data": {
      "image/png": "[encoded data removed]",
      "text/plain": [
       "<Figure size 1080x1080 with 3 Axes>"
      ]
     },
     "metadata": {
      "needs_background": "light"
     },
     "output_type": "display_data"
    }
   ],
   "source": [
    "num_train = 4000\n",
    "small_data = {\n",
    "  'X_train': data['X_train'][:num_train],\n",
    "  'y_train': data['y_train'][:num_train],\n",
    "  'X_val': data['X_val'],\n",
    "  'y_val': data['y_val'],\n",
    "}\n",
    "\n",
    "solvers = {}\n",
    "\n",
    "for update_rule in ['sgd', 'sgd_momentum']:\n",
    "  print('running with ', update_rule)\n",
    "  model = FullyConnectedNet([100, 100, 100, 100, 100], weight_scale=5e-2)\n",
    "\n",
    "  solver = Solver(model, small_data,\n",
    "                  num_epochs=5, batch_size=100,\n",
    "                  update_rule=update_rule,\n",
    "                  optim_config={\n",
    "                    'learning_rate': 4e-3,\n",
    "                  },\n",
    "                  verbose=True)\n",
    "  solvers[update_rule] = solver\n",
    "  solver.train()\n",
    "  print()\n",
    "\n",
    "plt.subplot(3, 1, 1)\n",
    "plt.title('Training loss')\n",
    "plt.xlabel('Iteration')\n",
    "\n",
    "plt.subplot(3, 1, 2)\n",
    "plt.title('Training accuracy')\n",
    "plt.xlabel('Epoch')\n",
    "\n",
    "plt.subplot(3, 1, 3)\n",
    "plt.title('Validation accuracy')\n",
    "plt.xlabel('Epoch')\n",
    "\n",
    "for update_rule, solver in solvers.items():\n",
    "  plt.subplot(3, 1, 1)\n",
    "  plt.plot(solver.loss_history, 'o', label=\"loss_%s\" % update_rule)\n",
    "  \n",
    "  plt.subplot(3, 1, 2)\n",
    "  plt.plot(solver.train_acc_history, '-o', label=\"train_acc_%s\" % update_rule)\n",
    "\n",
    "  plt.subplot(3, 1, 3)\n",
    "  plt.plot(solver.val_acc_history, '-o', label=\"val_acc_%s\" % update_rule)\n",
    "  \n",
    "for i in [1, 2, 3]:\n",
    "  plt.subplot(3, 1, i)\n",
    "  plt.legend(loc='upper center', ncol=4)\n",
    "plt.gcf().set_size_inches(15, 15)\n",
    "plt.show()"
   ]
  },
  {
   "cell_type": "markdown",
   "metadata": {},
   "source": [
    "# RMSProp and Adam\n",
    "RMSProp [1] and Adam [2] are update rules that set per-parameter learning rates by using a running average of the second moments of gradients.\n",
    "\n",
    "In the file `cs231n/optim.py`, implement the RMSProp update rule in the `rmsprop` function and implement the Adam update rule in the `adam` function, and check your implementations using the tests below.\n",
    "\n",
    "**NOTE:** Please implement the _complete_ Adam update rule (with the bias correction mechanism), not the first simplified version mentioned in the course notes. \n",
    "\n",
    "[1] Tijmen Tieleman and Geoffrey Hinton. \"Lecture 6.5-rmsprop: Divide the gradient by a running average of its recent magnitude.\" COURSERA: Neural Networks for Machine Learning 4 (2012).\n",
    "\n",
    "[2] Diederik Kingma and Jimmy Ba, \"Adam: A Method for Stochastic Optimization\", ICLR 2015."
   ]
  },
  {
   "cell_type": "code",
   "execution_count": null,
   "metadata": {},
   "outputs": [],
   "source": [
    "# Test RMSProp implementation\n",
    "from cs231n.optim import rmsprop\n",
    "\n",
    "N, D = 4, 5\n",
    "w = np.linspace(-0.4, 0.6, num=N*D).reshape(N, D)\n",
    "dw = np.linspace(-0.6, 0.4, num=N*D).reshape(N, D)\n",
    "cache = np.linspace(0.6, 0.9, num=N*D).reshape(N, D)\n",
    "\n",
    "config = {'learning_rate': 1e-2, 'cache': cache}\n",
    "next_w, _ = rmsprop(w, dw, config=config)\n",
    "\n",
    "expected_next_w = np.asarray([\n",
    "  [-0.39223849, -0.34037513, -0.28849239, -0.23659121, -0.18467247],\n",
    "  [-0.132737,   -0.08078555, -0.02881884,  0.02316247,  0.07515774],\n",
    "  [ 0.12716641,  0.17918792,  0.23122175,  0.28326742,  0.33532447],\n",
    "  [ 0.38739248,  0.43947102,  0.49155973,  0.54365823,  0.59576619]])\n",
    "expected_cache = np.asarray([\n",
    "  [ 0.5976,      0.6126277,   0.6277108,   0.64284931,  0.65804321],\n",
    "  [ 0.67329252,  0.68859723,  0.70395734,  0.71937285,  0.73484377],\n",
    "  [ 0.75037008,  0.7659518,   0.78158892,  0.79728144,  0.81302936],\n",
    "  [ 0.82883269,  0.84469141,  0.86060554,  0.87657507,  0.8926    ]])\n",
    "\n",
    "# You should see relative errors around e-7 or less\n",
    "print('next_w error: ', rel_error(expected_next_w, next_w))\n",
    "print('cache error: ', rel_error(expected_cache, config['cache']))"
   ]
  },
  {
   "cell_type": "code",
   "execution_count": null,
   "metadata": {},
   "outputs": [],
   "source": [
    "# Test Adam implementation\n",
    "from cs231n.optim import adam\n",
    "\n",
    "N, D = 4, 5\n",
    "w = np.linspace(-0.4, 0.6, num=N*D).reshape(N, D)\n",
    "dw = np.linspace(-0.6, 0.4, num=N*D).reshape(N, D)\n",
    "m = np.linspace(0.6, 0.9, num=N*D).reshape(N, D)\n",
    "v = np.linspace(0.7, 0.5, num=N*D).reshape(N, D)\n",
    "\n",
    "config = {'learning_rate': 1e-2, 'm': m, 'v': v, 't': 5}\n",
    "next_w, _ = adam(w, dw, config=config)\n",
    "\n",
    "expected_next_w = np.asarray([\n",
    "  [-0.40094747, -0.34836187, -0.29577703, -0.24319299, -0.19060977],\n",
    "  [-0.1380274,  -0.08544591, -0.03286534,  0.01971428,  0.0722929],\n",
    "  [ 0.1248705,   0.17744702,  0.23002243,  0.28259667,  0.33516969],\n",
    "  [ 0.38774145,  0.44031188,  0.49288093,  0.54544852,  0.59801459]])\n",
    "expected_v = np.asarray([\n",
    "  [ 0.69966,     0.68908382,  0.67851319,  0.66794809,  0.65738853,],\n",
    "  [ 0.64683452,  0.63628604,  0.6257431,   0.61520571,  0.60467385,],\n",
    "  [ 0.59414753,  0.58362676,  0.57311152,  0.56260183,  0.55209767,],\n",
    "  [ 0.54159906,  0.53110598,  0.52061845,  0.51013645,  0.49966,   ]])\n",
    "expected_m = np.asarray([\n",
    "  [ 0.48,        0.49947368,  0.51894737,  0.53842105,  0.55789474],\n",
    "  [ 0.57736842,  0.59684211,  0.61631579,  0.63578947,  0.65526316],\n",
    "  [ 0.67473684,  0.69421053,  0.71368421,  0.73315789,  0.75263158],\n",
    "  [ 0.77210526,  0.79157895,  0.81105263,  0.83052632,  0.85      ]])\n",
    "\n",
    "# You should see relative errors around e-7 or less\n",
    "print('next_w error: ', rel_error(expected_next_w, next_w))\n",
    "print('v error: ', rel_error(expected_v, config['v']))\n",
    "print('m error: ', rel_error(expected_m, config['m']))"
   ]
  },
  {
   "cell_type": "markdown",
   "metadata": {},
   "source": [
    "Once you have debugged your RMSProp and Adam implementations, run the following to train a pair of deep networks using these new update rules:"
   ]
  },
  {
   "cell_type": "code",
   "execution_count": null,
   "metadata": {},
   "outputs": [],
   "source": [
    "learning_rates = {'rmsprop': 1e-4, 'adam': 1e-3}\n",
    "for update_rule in ['adam', 'rmsprop']:\n",
    "  print('running with ', update_rule)\n",
    "  model = FullyConnectedNet([100, 100, 100, 100, 100], weight_scale=5e-2)\n",
    "\n",
    "  solver = Solver(model, small_data,\n",
    "                  num_epochs=5, batch_size=100,\n",
    "                  update_rule=update_rule,\n",
    "                  optim_config={\n",
    "                    'learning_rate': learning_rates[update_rule]\n",
    "                  },\n",
    "                  verbose=True)\n",
    "  solvers[update_rule] = solver\n",
    "  solver.train()\n",
    "  print()\n",
    "\n",
    "plt.subplot(3, 1, 1)\n",
    "plt.title('Training loss')\n",
    "plt.xlabel('Iteration')\n",
    "\n",
    "plt.subplot(3, 1, 2)\n",
    "plt.title('Training accuracy')\n",
    "plt.xlabel('Epoch')\n",
    "\n",
    "plt.subplot(3, 1, 3)\n",
    "plt.title('Validation accuracy')\n",
    "plt.xlabel('Epoch')\n",
    "\n",
    "for update_rule, solver in list(solvers.items()):\n",
    "  plt.subplot(3, 1, 1)\n",
    "  plt.plot(solver.loss_history, 'o', label=update_rule)\n",
    "  \n",
    "  plt.subplot(3, 1, 2)\n",
    "  plt.plot(solver.train_acc_history, '-o', label=update_rule)\n",
    "\n",
    "  plt.subplot(3, 1, 3)\n",
    "  plt.plot(solver.val_acc_history, '-o', label=update_rule)\n",
    "  \n",
    "for i in [1, 2, 3]:\n",
    "  plt.subplot(3, 1, i)\n",
    "  plt.legend(loc='upper center', ncol=4)\n",
    "plt.gcf().set_size_inches(15, 15)\n",
    "plt.show()"
   ]
  },
  {
   "cell_type": "markdown",
   "metadata": {
    "tags": [
     "pdf-inline"
    ]
   },
   "source": [
    "## Inline Question 3:\n",
    "\n",
    "AdaGrad, like Adam, is a per-parameter optimization method that uses the following update rule:\n",
    "\n",
    "```\n",
    "cache += dw**2\n",
    "w += - learning_rate * dw / (np.sqrt(cache) + eps)\n",
    "```\n",
    "\n",
    "John notices that when he was training a network with AdaGrad that the updates became very small, and that his network was learning slowly. Using your knowledge of the AdaGrad update rule, why do you think the updates would become very small? Would Adam have the same issue?\n",
    "\n",
    "\n",
    "## Answer: \n",
    "[FILL THIS IN]\n"
   ]
  },
  {
   "cell_type": "markdown",
   "metadata": {},
   "source": [
    "# Train a good model!\n",
    "Train the best fully-connected model that you can on CIFAR-10, storing your best model in the `best_model` variable. We require you to get at least 50% accuracy on the validation set using a fully-connected net.\n",
    "\n",
    "If you are careful it should be possible to get accuracies above 55%, but we don't require it for this part and won't assign extra credit for doing so. Later in the assignment we will ask you to train the best convolutional network that you can on CIFAR-10, and we would prefer that you spend your effort working on convolutional nets rather than fully-connected nets.\n",
    "\n",
    "You might find it useful to complete the `BatchNormalization.ipynb` and `Dropout.ipynb` notebooks before completing this part, since those techniques can help you train powerful models."
   ]
  },
  {
   "cell_type": "code",
   "execution_count": null,
   "metadata": {
    "scrolled": false
   },
   "outputs": [],
   "source": [
    "best_model = None\n",
    "################################################################################\n",
    "# TODO: Train the best FullyConnectedNet that you can on CIFAR-10. You might   #\n",
    "# find batch/layer normalization and dropout useful. Store your best model in  #\n",
    "# the best_model variable.                                                     #\n",
    "################################################################################\n",
    "# *****START OF YOUR CODE (DO NOT DELETE/MODIFY THIS LINE)*****\n",
    "\n",
    "pass\n",
    "\n",
    "# *****END OF YOUR CODE (DO NOT DELETE/MODIFY THIS LINE)*****\n",
    "################################################################################\n",
    "#                              END OF YOUR CODE                                #\n",
    "################################################################################"
   ]
  },
  {
   "cell_type": "markdown",
   "metadata": {},
   "source": [
    "# Test your model!\n",
    "Run your best model on the validation and test sets. You should achieve above 50% accuracy on the validation set."
   ]
  },
  {
   "cell_type": "code",
   "execution_count": null,
   "metadata": {},
   "outputs": [],
   "source": [
    "y_test_pred = np.argmax(best_model.loss(data['X_test']), axis=1)\n",
    "y_val_pred = np.argmax(best_model.loss(data['X_val']), axis=1)\n",
    "print('Validation set accuracy: ', (y_val_pred == data['y_val']).mean())\n",
    "print('Test set accuracy: ', (y_test_pred == data['y_test']).mean())"
   ]
  }
 ],
 "metadata": {
  "kernelspec": {
   "display_name": "Python 3",
   "language": "python",
   "name": "python3"
  },
  "language_info": {
   "codemirror_mode": {
    "name": "ipython",
    "version": 3
   },
   "file_extension": ".py",
   "mimetype": "text/x-python",
   "name": "python",
   "nbconvert_exporter": "python",
   "pygments_lexer": "ipython3",
   "version": "3.7.4"
  }
 },
 "nbformat": 4,
 "nbformat_minor": 2
}
